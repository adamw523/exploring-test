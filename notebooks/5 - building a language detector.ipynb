{
 "cells": [
  {
   "cell_type": "markdown",
   "metadata": {
    "deletable": true,
    "editable": true
   },
   "source": [
    "## Build a language detector model\n",
    "\n",
    "The goal of this exercise is to train a linear classifier on text features\n",
    "that represent sequences of up to 3 consecutive characters so as to be\n",
    "recognize natural languages by using the frequencies of short character\n",
    "sequences as 'fingerprints'.\n",
    "\n",
    "Author: Olivier Grisel <olivier.grisel@ensta.org>\n",
    "\n",
    "License: Simplified BSD\n",
    "\n"
   ]
  },
  {
   "cell_type": "code",
   "execution_count": 15,
   "metadata": {
    "collapsed": true,
    "deletable": true,
    "editable": true
   },
   "outputs": [],
   "source": [
    "import sys\n",
    "\n",
    "from sklearn.feature_extraction.text import TfidfVectorizer\n",
    "from sklearn.linear_model import Perceptron\n",
    "from sklearn.pipeline import Pipeline\n",
    "from sklearn.datasets import load_files\n",
    "from sklearn.model_selection import train_test_split\n",
    "from sklearn import metrics\n",
    "\n"
   ]
  },
  {
   "cell_type": "code",
   "execution_count": 48,
   "metadata": {
    "collapsed": false,
    "deletable": true,
    "editable": true
   },
   "outputs": [],
   "source": [
    "# The training data folder must be passed as first argument\n",
    "languages_data_folder = sys.argv[1]\n",
    "dataset = load_files('languages/paragraphs')\n"
   ]
  },
  {
   "cell_type": "markdown",
   "metadata": {
    "deletable": true,
    "editable": true
   },
   "source": [
    "### Split the dataset in training and test set:"
   ]
  },
  {
   "cell_type": "code",
   "execution_count": 17,
   "metadata": {
    "collapsed": true,
    "deletable": true,
    "editable": true
   },
   "outputs": [],
   "source": [
    "docs_train, docs_test, y_train, y_test = train_test_split(\n",
    "    dataset.data, dataset.target, test_size=0.5)\n"
   ]
  },
  {
   "cell_type": "markdown",
   "metadata": {
    "deletable": true,
    "editable": true
   },
   "source": [
    "### Build a vectorizer that splits strings into sequence of 1 to 3 characters instead of word tokens\n"
   ]
  },
  {
   "cell_type": "code",
   "execution_count": 18,
   "metadata": {
    "collapsed": false,
    "deletable": true,
    "editable": true
   },
   "outputs": [],
   "source": [
    "\n",
    "vectorizer = TfidfVectorizer(ngram_range=(1, 3), analyzer='char',\n",
    "                             use_idf=False)\n",
    "\n"
   ]
  },
  {
   "cell_type": "code",
   "execution_count": 69,
   "metadata": {
    "collapsed": true,
    "deletable": true,
    "editable": true
   },
   "outputs": [],
   "source": [
    "# TASK: Build a vectorizer / classifier pipeline using the previous analyzer\n",
    "# the pipeline instance should stored in a variable named clf\n",
    "\n",
    "clf = Pipeline([\n",
    "    ('vec', vectorizer),\n",
    "    ('clf', Perceptron()),  # a linear classifyer\n",
    "])\n"
   ]
  },
  {
   "cell_type": "code",
   "execution_count": 70,
   "metadata": {
    "collapsed": false
   },
   "outputs": [
    {
     "name": "stdout",
     "output_type": "stream",
     "text": [
      "[' ув', ' уг', ' уд', ' уж', ' уз', ' ук', ' ум', ' ун', ' уп', ' ур', ' ус', ' ут', ' уч', ' ущ', ' уэ', ' ф', ' фа', ' фе', ' фи', ' фо', ' фу', ' х', ' ха', ' хо', ' хр', ' ху', ' ц', ' це', ' ци', ' ч', ' ча', ' че', ' чи', ' чт', ' чу', ' чь', ' ш', ' ши', ' шк', ' шо', ' э', ' эк', ' эм', ' эн', ' эп', ' эр', ' эт', ' эф', ' ю', ' юн', ' я', ' я ', ' яв', ' яз', ' ян', ' яп', ' أ', ' أث', ' أج', ' أح', ' أخ', ' أس', ' أط', ' أع', ' أغ', ' أف', ' أك', ' أل', ' أن', ' أو', ' أي', ' إ', ' إت', ' إد', ' إس', ' إل', ' ا', ' اخ', ' اس', ' اق', ' ال', ' ب', ' بأ', ' با', ' بت', ' بد', ' بر', ' بع', ' بل', ' بم', ' بن', ' بي', ' ت', ' تا', ' تت', ' تح', ' تد', ' تس', ' تص', ' تط']\n",
      "['br)', 'bra', 'bre', 'bri', 'bro', 'bru', 'brü', 'bs', 'bs)', 'bs,', 'bsa', 'bsc', 'bse', 'bsi', 'bsk', 'bst', 'bsu', 'bsł', 'bt', 'bt ', 'bt,', 'bt.', 'bta', 'bte', 'btu', 'bu', 'bu ', 'bua', 'bub', 'buc', 'bud', 'bue', 'bug', 'bui', 'buj', 'bul', 'bum', 'bun', 'buo', 'bur', 'bus', 'but', 'buy', 'buz', 'bué', 'buí', 'bv', 'bvi', 'bw', 'bwe', 'bwo', 'bwä', 'bwü', 'by', 'by ', 'by-', 'by.', 'byt', 'być', 'był', 'bz', 'bzu', 'bá', 'bás', 'bâ', 'bât', 'bä', 'bän', 'bé', 'bém', 'bén', 'bér', 'bì', 'bì ', 'bìt', 'bí', 'bía', 'bô', 'bôs', 'bú', 'bús', 'bü', 'büc', 'bür', 'bą', 'bą ', 'bą,', 'bę', 'bę.', 'b—', 'b—.', 'c', 'c ', 'c (', 'c 2', 'c a', 'c b', 'c c', 'c d', 'c e']\n",
      "['iug', 'iul', 'ium', 'iun', 'iur', 'ius', 'iut', 'iv', 'iv ', 'iva', 'ive', 'ivi', 'ivo', 'ivr', 'ivu', 'ivé', 'ivò', 'iw', 'iwa', 'iwe', 'iwf', 'iwi', 'iwo', 'iwy', 'ix', 'ix ', 'ix[', 'ixa', 'ixi', 'ixo', 'ixt', 'ixá', 'iz', 'iz ', 'iz.', 'iza', 'ize', 'izi', 'izj', 'izm', 'izn', 'izo', 'izu', 'izy', 'izz', 'izó', 'i\\xa0', 'i\\xa02', 'i\\xa0;', 'i\\xa0?', 'i\\xa0»', 'i\\xa0—', 'i»', 'i» ', 'i»)', 'i».', 'ià', 'ià ', 'iá', 'iár', 'iát', 'iáv', 'iã', 'ião', 'iç', 'iço', 'içã', 'içõ', 'iè', 'ièm', 'ièr', 'ié', 'ié ', 'ié.', 'ié[', 'iée', 'ién', 'iér', 'iés', 'iét', 'ië', 'iëp', 'iò', 'iò ', 'iò.', 'ió', 'ió ', 'iód', 'iól', 'ión', 'iów', 'iö', 'iös', 'iù', 'iù ', 'ią', 'ią ', 'ią)', 'iąc', 'iąg']\n"
     ]
    }
   ],
   "source": [
    "print(vectorizer.get_feature_names()[1000:1100])\n",
    "print(vectorizer.get_feature_names()[5000:5100])\n",
    "print(vectorizer.get_feature_names()[8000:8100])"
   ]
  },
  {
   "cell_type": "markdown",
   "metadata": {
    "deletable": true,
    "editable": true
   },
   "source": [
    "### Fit the pipeline on the training set"
   ]
  },
  {
   "cell_type": "code",
   "execution_count": 68,
   "metadata": {
    "collapsed": false,
    "deletable": true,
    "editable": true
   },
   "outputs": [
    {
     "data": {
      "text/plain": [
       "Pipeline(steps=[('vec', TfidfVectorizer(analyzer='char', binary=False, decode_error='strict',\n",
       "        dtype=<class 'numpy.int64'>, encoding='utf-8', input='content',\n",
       "        lowercase=True, max_df=1.0, max_features=None, min_df=1,\n",
       "        ngram_range=(1, 3), norm='l2', preprocessor=None, smooth_idf=True,\n",
       "   ...n_iter=5, n_jobs=1, penalty=None, random_state=0, shuffle=True,\n",
       "      verbose=0, warm_start=False))])"
      ]
     },
     "execution_count": 68,
     "metadata": {},
     "output_type": "execute_result"
    }
   ],
   "source": [
    "clf.fit(docs_train, y_train)"
   ]
  },
  {
   "cell_type": "markdown",
   "metadata": {
    "deletable": true,
    "editable": true
   },
   "source": [
    "### Predict the outcome on the testing set in a variable named y_predicted"
   ]
  },
  {
   "cell_type": "code",
   "execution_count": 21,
   "metadata": {
    "collapsed": false,
    "deletable": true,
    "editable": true
   },
   "outputs": [],
   "source": [
    "y_predicted = clf.predict(docs_test)"
   ]
  },
  {
   "cell_type": "markdown",
   "metadata": {
    "deletable": true,
    "editable": true
   },
   "source": [
    "### Model Evaluation: Print the classification report\n",
    "\n",
    "http://scikit-learn.org/stable/modules/model_evaluation.html#precision-recall-and-f-measures\n",
    "\n",
    "https://en.wikipedia.org/wiki/Precision_and_recall#Precision\n",
    "\n",
    "\n",
    "**precision**: Ability of the classifier not to label as positive a sample that is negative. The higher the number, the more sure we are that the postive labels are actually positive.\n",
    "\n",
    "```\n",
    "precision = true_positives / (true_positives + false_positives)\n",
    "```\n",
    "\n",
    "**recall**: Ability of the classifier to find all the positive samples. The higher the number, the more sure we are that we are not missing any positive labels\n",
    "\n",
    "```\n",
    "recall = true_positives / (true_positives + false_negatives)\n",
    "```\n",
    "\n",
    "**f1-score**: Combines the precision and recall. \n",
    "\n",
    "```\n",
    "f1 = 2.0 * true_positives / (2*true_positives + false_positives + false_negatives)\n",
    "```\n",
    "\n",
    "**support**: The number of occurrences of each class in positive labels.\n",
    "\n",
    "```\n",
    "F1 = 2 * (precision * recall) / (precision + recall)\n",
    "```"
   ]
  },
  {
   "cell_type": "code",
   "execution_count": 22,
   "metadata": {
    "collapsed": false,
    "deletable": true,
    "editable": true
   },
   "outputs": [
    {
     "name": "stdout",
     "output_type": "stream",
     "text": [
      "             precision    recall  f1-score   support\n",
      "\n",
      "         ar       1.00      1.00      1.00        13\n",
      "         de       1.00      0.99      0.99        78\n",
      "         en       1.00      1.00      1.00        72\n",
      "         es       1.00      0.85      0.92        59\n",
      "         fr       0.87      1.00      0.93        55\n",
      "         it       1.00      0.97      0.98        31\n",
      "         ja       1.00      1.00      1.00        49\n",
      "         nl       1.00      1.00      1.00        23\n",
      "         pl       0.91      1.00      0.95        21\n",
      "         pt       0.93      0.94      0.93        53\n",
      "         ru       1.00      1.00      1.00        31\n",
      "\n",
      "avg / total       0.97      0.97      0.97       485\n",
      "\n"
     ]
    }
   ],
   "source": [
    "\n",
    "print(metrics.classification_report(y_test, y_predicted,\n",
    "                                    target_names=dataset.target_names))\n",
    "\n"
   ]
  },
  {
   "cell_type": "markdown",
   "metadata": {
    "deletable": true,
    "editable": true
   },
   "source": [
    "### Plot the confusion matrix\n",
    "\n",
    "AKA error matrix."
   ]
  },
  {
   "cell_type": "code",
   "execution_count": 23,
   "metadata": {
    "collapsed": false,
    "deletable": true,
    "editable": true
   },
   "outputs": [
    {
     "name": "stdout",
     "output_type": "stream",
     "text": [
      "[[13  0  0  0  0  0  0  0  0  0  0]\n",
      " [ 0 77  0  0  0  0  0  0  1  0  0]\n",
      " [ 0  0 72  0  0  0  0  0  0  0  0]\n",
      " [ 0  0  0 50  4  0  0  0  1  4  0]\n",
      " [ 0  0  0  0 55  0  0  0  0  0  0]\n",
      " [ 0  0  0  0  1 30  0  0  0  0  0]\n",
      " [ 0  0  0  0  0  0 49  0  0  0  0]\n",
      " [ 0  0  0  0  0  0  0 23  0  0  0]\n",
      " [ 0  0  0  0  0  0  0  0 21  0  0]\n",
      " [ 0  0  0  0  3  0  0  0  0 50  0]\n",
      " [ 0  0  0  0  0  0  0  0  0  0 31]]\n"
     ]
    }
   ],
   "source": [
    "\n",
    "cm = metrics.confusion_matrix(y_test, y_predicted)\n",
    "print(cm)\n",
    "\n"
   ]
  },
  {
   "cell_type": "code",
   "execution_count": 47,
   "metadata": {
    "collapsed": false,
    "deletable": true,
    "editable": true
   },
   "outputs": [
    {
     "data": {
      "image/png": "[encoded data removed]",
      "text/plain": [
       "<matplotlib.figure.Figure at 0x7f5802024128>"
      ]
     },
     "metadata": {},
     "output_type": "display_data"
    }
   ],
   "source": [
    "import matplotlib.pyplot as plt\n",
    "\n",
    "fig = plt.figure()\n",
    "ax = fig.add_subplot(111)\n",
    "ax.matshow(cm)\n",
    "\n",
    "ax.set_xlabel(\"Predicted\")\n",
    "ax.set_ylabel(\"Actuall Class\")\n",
    "\n",
    "plt.show()\n"
   ]
  },
  {
   "cell_type": "markdown",
   "metadata": {
    "deletable": true,
    "editable": true
   },
   "source": [
    "### Predict the result on some short new sentences:"
   ]
  },
  {
   "cell_type": "code",
   "execution_count": 14,
   "metadata": {
    "collapsed": false,
    "deletable": true,
    "editable": true
   },
   "outputs": [
    {
     "name": "stdout",
     "output_type": "stream",
     "text": [
      "The language of \"This is a language detection test.\" is \"en\"\n",
      "The language of \"Ceci est un test de détection de la langue.\" is \"fr\"\n",
      "The language of \"Dies ist ein Test, um die Sprache zu erkennen.\" is \"de\"\n",
      "The language of \"Nie mój cyrk, nie moje małpy.\" is \"pl\"\n",
      "The language of \"Jest to test wykrywania języka\" is \"pl\"\n"
     ]
    }
   ],
   "source": [
    "\n",
    "\n",
    "sentences = [\n",
    "    u'This is a language detection test.',\n",
    "    u'Ceci est un test de d\\xe9tection de la langue.',\n",
    "    u'Dies ist ein Test, um die Sprache zu erkennen.',\n",
    "    u'Nie mój cyrk, nie moje małpy.',\n",
    "    u'Jest to test wykrywania języka'\n",
    "]\n",
    "predicted = clf.predict(sentences)\n",
    "\n",
    "for s, p in zip(sentences, predicted):\n",
    "    print(u'The language of \"%s\" is \"%s\"' % (s, dataset.target_names[p]))\n",
    "\n",
    "    \n",
    "    "
   ]
  },
  {
   "cell_type": "code",
   "execution_count": null,
   "metadata": {
    "collapsed": true,
    "deletable": true,
    "editable": true
   },
   "outputs": [],
   "source": []
  },
  {
   "cell_type": "code",
   "execution_count": null,
   "metadata": {
    "collapsed": true,
    "deletable": true,
    "editable": true
   },
   "outputs": [],
   "source": []
  },
  {
   "cell_type": "code",
   "execution_count": null,
   "metadata": {
    "collapsed": true,
    "deletable": true,
    "editable": true
   },
   "outputs": [],
   "source": []
  },
  {
   "cell_type": "code",
   "execution_count": null,
   "metadata": {
    "collapsed": true,
    "deletable": true,
    "editable": true
   },
   "outputs": [],
   "source": []
  }
 ],
 "metadata": {
  "kernelspec": {
   "display_name": "Python 3",
   "language": "python",
   "name": "python3"
  },
  "language_info": {
   "codemirror_mode": {
    "name": "ipython",
    "version": 3
   },
   "file_extension": ".py",
   "mimetype": "text/x-python",
   "name": "python",
   "nbconvert_exporter": "python",
   "pygments_lexer": "ipython3",
   "version": "3.5.2"
  }
 },
 "nbformat": 4,
 "nbformat_minor": 2
}
