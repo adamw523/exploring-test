{
 "cells": [
  {
   "cell_type": "markdown",
   "metadata": {},
   "source": [
    "# Text processing / Chat bots\n",
    "\n",
    "\n",
    "GitHub source for this presentation: https://github.com/adamw523/exploring-text\n",
    "\n",
    "http://gizmodo.com/thousands-of-people-are-watching-two-google-homes-argue-1790843285\n",
    "\n",
    "\n",
    "\n",
    "### Cleverbot\n",
    "\n",
    "Cleverbot corpus: http://www.cleverbot.com/\n",
    "\n",
    "API: https://www.cleverbot.com/api/\n",
    "\n",
    "Wikipedia: https://en.wikipedia.org/wiki/Cleverbot\n",
    "\n",
    "Trained on over 360 million interactions.\n",
    "\n",
    "![bots](bots.png)\n",
    "\n",
    "YouTube example: https://www.youtube.com/watch?v=svAUxC_BS1c\n",
    "\n",
    "\n",
    "\n",
    "\n"
   ]
  },
  {
   "cell_type": "markdown",
   "metadata": {},
   "source": [
    "# motalk\n",
    "\n",
    "Movie quotes based chat\n",
    "\n",
    "![motalk](motalk.png)"
   ]
  },
  {
   "cell_type": "code",
   "execution_count": null,
   "metadata": {
    "collapsed": true
   },
   "outputs": [],
   "source": []
  },
  {
   "cell_type": "code",
   "execution_count": null,
   "metadata": {
    "collapsed": true
   },
   "outputs": [],
   "source": []
  },
  {
   "cell_type": "code",
   "execution_count": null,
   "metadata": {
    "collapsed": true
   },
   "outputs": [],
   "source": []
  },
  {
   "cell_type": "code",
   "execution_count": null,
   "metadata": {
    "collapsed": true
   },
   "outputs": [],
   "source": []
  },
  {
   "cell_type": "code",
   "execution_count": null,
   "metadata": {
    "collapsed": true
   },
   "outputs": [],
   "source": []
  },
  {
   "cell_type": "code",
   "execution_count": null,
   "metadata": {
    "collapsed": true
   },
   "outputs": [],
   "source": []
  },
  {
   "cell_type": "code",
   "execution_count": null,
   "metadata": {
    "collapsed": true
   },
   "outputs": [],
   "source": []
  },
  {
   "cell_type": "code",
   "execution_count": null,
   "metadata": {
    "collapsed": true
   },
   "outputs": [],
   "source": []
  }
 ],
 "metadata": {
  "kernelspec": {
   "display_name": "Python 3",
   "language": "python",
   "name": "python3"
  },
  "language_info": {
   "codemirror_mode": {
    "name": "ipython",
    "version": 3
   },
   "file_extension": ".py",
   "mimetype": "text/x-python",
   "name": "python",
   "nbconvert_exporter": "python",
   "pygments_lexer": "ipython3",
   "version": "3.5.2"
  }
 },
 "nbformat": 4,
 "nbformat_minor": 2
}
