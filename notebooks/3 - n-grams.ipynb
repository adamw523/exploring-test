{
 "cells": [
  {
   "cell_type": "code",
   "execution_count": 1,
   "metadata": {
    "collapsed": true,
    "deletable": true,
    "editable": true
   },
   "outputs": [],
   "source": [
    "import gzip, pickle\n",
    "import numpy as np\n",
    "import pandas as pd\n",
    "from sklearn.metrics.pairwise import cosine_similarity, euclidean_distances\n",
    "from IPython.display import HTML\n",
    "from nltk.stem.snowball import SnowballStemmer\n",
    "from nltk.stem.porter import PorterStemmer\n",
    "from nltk.stem.lancaster import LancasterStemmer\n",
    "from sklearn.feature_extraction.text import CountVectorizer\n",
    "from sklearn.feature_extraction.text import TfidfVectorizer"
   ]
  },
  {
   "cell_type": "code",
   "execution_count": 2,
   "metadata": {
    "collapsed": true,
    "deletable": true,
    "editable": true
   },
   "outputs": [],
   "source": [
    "corpus = [\n",
    "    \"The sun is warm, warm, warm!\",\n",
    "    \"The coldest winters last forever\",\n",
    "    \"Cooling off in the pool is nice\",\n",
    "    \"Summer is warmer than winter. It is the warmest.\",\n",
    "    \"The coldest beer is the best beer\"\n",
    "]"
   ]
  },
  {
   "cell_type": "markdown",
   "metadata": {
    "deletable": true,
    "editable": true
   },
   "source": [
    "### Stemmer / Tokenizer"
   ]
  },
  {
   "cell_type": "code",
   "execution_count": 3,
   "metadata": {
    "collapsed": true,
    "deletable": true,
    "editable": true
   },
   "outputs": [],
   "source": [
    "default_tokenizer = CountVectorizer().build_tokenizer()\n",
    "ss = SnowballStemmer('english')\n",
    "ls = LancasterStemmer()\n",
    "\n",
    "def stemmed_tokenizer(doc):\n",
    "    tokens = default_tokenizer(doc)\n",
    "    return list(map(ls.stem, map(ss.stem, tokens)))"
   ]
  },
  {
   "cell_type": "markdown",
   "metadata": {
    "deletable": true,
    "editable": true
   },
   "source": [
    "### Vectorize bi-gram and 1-gram, bi-gram"
   ]
  },
  {
   "cell_type": "code",
   "execution_count": 4,
   "metadata": {
    "collapsed": false,
    "deletable": true,
    "editable": true
   },
   "outputs": [
    {
     "name": "stdout",
     "output_type": "stream",
     "text": [
      "['beer is', 'best beer', 'coldest beer', 'coldest wint', 'cool off', 'in the', 'is nic', 'is the', 'is warm', 'it is', 'last forev', 'off in', 'pool is', 'sum is', 'sun is', 'than wint', 'the best', 'the coldest', 'the pool', 'the sun', 'the warmest', 'warm than', 'warm warm', 'wint it', 'wint last']\n",
      "[[0 0 0 0 0 0 0 0 1 0 0 0 0 0 1 0 0 0 0 1 0 0 2 0 0]\n",
      " [0 0 0 1 0 0 0 0 0 0 1 0 0 0 0 0 0 1 0 0 0 0 0 0 1]\n",
      " [0 0 0 0 1 1 1 0 0 0 0 1 1 0 0 0 0 0 1 0 0 0 0 0 0]\n",
      " [0 0 0 0 0 0 0 1 1 1 0 0 0 1 0 1 0 0 0 0 1 1 0 1 0]\n",
      " [1 1 1 0 0 0 0 1 0 0 0 0 0 0 0 0 1 1 0 0 0 0 0 0 0]]\n"
     ]
    }
   ],
   "source": [
    "vectorizer = CountVectorizer(ngram_range=(2,2), tokenizer=stemmed_tokenizer)\n",
    "bigrams = vectorizer.fit_transform(corpus)\n",
    "print(vectorizer.get_feature_names())\n",
    "print(bigrams.toarray())"
   ]
  },
  {
   "cell_type": "code",
   "execution_count": 5,
   "metadata": {
    "collapsed": false,
    "deletable": true,
    "editable": true
   },
   "outputs": [
    {
     "name": "stdout",
     "output_type": "stream",
     "text": [
      "['beer', 'beer is', 'best', 'best beer', 'coldest', 'coldest beer', 'coldest wint', 'cool', 'cool off', 'forev', 'in', 'in the', 'is', 'is nic', 'is the', 'is warm', 'it', 'it is', 'last', 'last forev', 'nic', 'off', 'off in', 'pool', 'pool is', 'sum', 'sum is', 'sun', 'sun is', 'than', 'than wint', 'the', 'the best', 'the coldest', 'the pool', 'the sun', 'the warmest', 'warm', 'warm than', 'warm warm', 'warmest', 'wint', 'wint it', 'wint last']\n",
      "[[0 0 0 0 0 0 0 0 0 0 0 0 1 0 0 1 0 0 0 0 0 0 0 0 0 0 0 1 1 0 0 1 0 0 0 1 0\n",
      "  3 0 2 0 0 0 0]\n",
      " [0 0 0 0 1 0 1 0 0 1 0 0 0 0 0 0 0 0 1 1 0 0 0 0 0 0 0 0 0 0 0 1 0 1 0 0 0\n",
      "  0 0 0 0 1 0 1]\n",
      " [0 0 0 0 0 0 0 1 1 0 1 1 1 1 0 0 0 0 0 0 1 1 1 1 1 0 0 0 0 0 0 1 0 0 1 0 0\n",
      "  0 0 0 0 0 0 0]\n",
      " [0 0 0 0 0 0 0 0 0 0 0 0 2 0 1 1 1 1 0 0 0 0 0 0 0 1 1 0 0 1 1 1 0 0 0 0 1\n",
      "  1 1 0 1 1 1 0]\n",
      " [2 1 1 1 1 1 0 0 0 0 0 0 1 0 1 0 0 0 0 0 0 0 0 0 0 0 0 0 0 0 0 2 1 1 0 0 0\n",
      "  0 0 0 0 0 0 0]]\n"
     ]
    }
   ],
   "source": [
    "vectorizer2 = CountVectorizer(ngram_range=(1,2), tokenizer=stemmed_tokenizer)\n",
    "bigrams2 = vectorizer2.fit_transform(corpus)\n",
    "print(vectorizer2.get_feature_names())\n",
    "print(bigrams2.toarray())"
   ]
  },
  {
   "cell_type": "code",
   "execution_count": 6,
   "metadata": {
    "collapsed": true,
    "deletable": true,
    "editable": true
   },
   "outputs": [],
   "source": [
    "similarities = cosine_similarity(bigrams)\n",
    "similarities2 = cosine_similarity(bigrams2)"
   ]
  },
  {
   "cell_type": "code",
   "execution_count": 7,
   "metadata": {
    "collapsed": false,
    "deletable": true,
    "editable": true
   },
   "outputs": [
    {
     "name": "stderr",
     "output_type": "stream",
     "text": [
      "/opt/conda/lib/python3.5/site-packages/matplotlib/font_manager.py:1297: UserWarning: findfont: Font family ['sans-serif'] not found. Falling back to DejaVu Sans\n",
      "  (prop.get_family(), self.defaultFamily[fontext]))\n"
     ]
    },
    {
     "name": "stdout",
     "output_type": "stream",
     "text": [
      "0 The sun is warm, warm, warm!\n",
      "1 The coldest winters last forever\n",
      "2 Cooling off in the pool is nice\n",
      "3 Summer is warmer than winter. It is the warmest.\n",
      "4 The coldest beer is the best beer\n"
     ]
    },
    {
     "data": {
      "image/png": "[encoded data removed]",
      "text/plain": [
       "<matplotlib.figure.Figure at 0x7f263b675f98>"
      ]
     },
     "metadata": {},
     "output_type": "display_data"
    },
    {
     "data": {
      "image/png": "[encoded data removed]",
      "text/plain": [
       "<matplotlib.figure.Figure at 0x7f26395aab70>"
      ]
     },
     "metadata": {},
     "output_type": "display_data"
    }
   ],
   "source": [
    "#http://seaborn.pydata.org/examples/network_correlations.html?highlight=correlation\n",
    "\n",
    "import seaborn as sns\n",
    "import matplotlib.pyplot as plt\n",
    "\n",
    "# Set up the matplotlib figure\n",
    "f, ax = plt.subplots(figsize=(6, 3))\n",
    "\n",
    "# Draw the heatmap using seaborn\n",
    "sns.heatmap(similarities, vmax=.8, square=True)\n",
    "\n",
    "f.tight_layout()\n",
    "plt.plot()\n",
    "\n",
    "# Set up the matplotlib figure\n",
    "f, ax = plt.subplots(figsize=(6, 3))\n",
    "\n",
    "# Draw the heatmap using seaborn\n",
    "sns.heatmap(similarities2, vmax=.8, square=True)\n",
    "\n",
    "f.tight_layout()\n",
    "plt.plot()\n",
    "\n",
    "\n",
    "for i, v in enumerate(corpus):\n",
    "    print(i, v)"
   ]
  },
  {
   "cell_type": "code",
   "execution_count": null,
   "metadata": {
    "collapsed": true,
    "deletable": true,
    "editable": true
   },
   "outputs": [],
   "source": []
  },
  {
   "cell_type": "code",
   "execution_count": null,
   "metadata": {
    "collapsed": true,
    "deletable": true,
    "editable": true
   },
   "outputs": [],
   "source": []
  },
  {
   "cell_type": "markdown",
   "metadata": {
    "deletable": true,
    "editable": true
   },
   "source": [
    "# Apply on Movie Quotes"
   ]
  },
  {
   "cell_type": "code",
   "execution_count": 8,
   "metadata": {
    "collapsed": false,
    "deletable": true,
    "editable": true
   },
   "outputs": [
    {
     "data": {
      "text/html": [
       "<table border=\"1\" class=\"dataframe\">\n",
       "  <thead>\n",
       "    <tr style=\"text-align: right;\">\n",
       "      <th></th>\n",
       "      <th>title</th>\n",
       "      <th>year</th>\n",
       "      <th>imdb_rating</th>\n",
       "      <th>no_imdb_votes</th>\n",
       "      <th>genres</th>\n",
       "    </tr>\n",
       "    <tr>\n",
       "      <th>movieID</th>\n",
       "      <th></th>\n",
       "      <th></th>\n",
       "      <th></th>\n",
       "      <th></th>\n",
       "      <th></th>\n",
       "    </tr>\n",
       "  </thead>\n",
       "  <tbody>\n",
       "    <tr>\n",
       "      <th>m616</th>\n",
       "      <td>zulu dawn</td>\n",
       "      <td>1979</td>\n",
       "      <td>6.4</td>\n",
       "      <td>1911</td>\n",
       "      <td>['action', 'adventure', 'drama', 'history', 'w...</td>\n",
       "    </tr>\n",
       "  </tbody>\n",
       "</table><table border=\"1\" class=\"dataframe\">\n",
       "  <thead>\n",
       "    <tr style=\"text-align: right;\">\n",
       "      <th></th>\n",
       "      <th>characterID</th>\n",
       "      <th>character_name</th>\n",
       "      <th>movie_title</th>\n",
       "      <th>gender</th>\n",
       "      <th>credits_position</th>\n",
       "    </tr>\n",
       "    <tr>\n",
       "      <th>movieID</th>\n",
       "      <th></th>\n",
       "      <th></th>\n",
       "      <th></th>\n",
       "      <th></th>\n",
       "      <th></th>\n",
       "    </tr>\n",
       "  </thead>\n",
       "  <tbody>\n",
       "    <tr>\n",
       "      <th>m616</th>\n",
       "      <td>u9034</td>\n",
       "      <td>VEREKER</td>\n",
       "      <td>zulu dawn</td>\n",
       "      <td>?</td>\n",
       "      <td>?</td>\n",
       "    </tr>\n",
       "  </tbody>\n",
       "</table><table border=\"1\" class=\"dataframe\">\n",
       "  <thead>\n",
       "    <tr style=\"text-align: right;\">\n",
       "      <th></th>\n",
       "      <th>characterID</th>\n",
       "      <th>movieID</th>\n",
       "      <th>character_ame</th>\n",
       "      <th>text</th>\n",
       "    </tr>\n",
       "    <tr>\n",
       "      <th>lineID</th>\n",
       "      <th></th>\n",
       "      <th></th>\n",
       "      <th></th>\n",
       "      <th></th>\n",
       "    </tr>\n",
       "  </thead>\n",
       "  <tbody>\n",
       "    <tr>\n",
       "      <th>L666256</th>\n",
       "      <td>u9034</td>\n",
       "      <td>m616</td>\n",
       "      <td>VEREKER</td>\n",
       "      <td>Colonel Durnford... William Vereker. I hear yo...</td>\n",
       "    </tr>\n",
       "  </tbody>\n",
       "</table><table border=\"1\" class=\"dataframe\">\n",
       "  <thead>\n",
       "    <tr style=\"text-align: right;\">\n",
       "      <th></th>\n",
       "      <th>firstCharacterID</th>\n",
       "      <th>secondCharacterID</th>\n",
       "      <th>movieId</th>\n",
       "      <th>order</th>\n",
       "    </tr>\n",
       "  </thead>\n",
       "  <tbody>\n",
       "    <tr>\n",
       "      <th>83096</th>\n",
       "      <td>u9030</td>\n",
       "      <td>u9034</td>\n",
       "      <td>m616</td>\n",
       "      <td>['L666520', 'L666521', 'L666522']</td>\n",
       "    </tr>\n",
       "  </tbody>\n",
       "</table>"
      ],
      "text/plain": [
       "<IPython.core.display.HTML object>"
      ]
     },
     "execution_count": 8,
     "metadata": {},
     "output_type": "execute_result"
    }
   ],
   "source": [
    "def read_file(name):\n",
    "    contents = None\n",
    "    with gzip.open(name) as f:\n",
    "        contents = pickle.load(f)\n",
    "    return contents\n",
    "\n",
    "movies_df = read_file('df_movies.pkl.gz')\n",
    "characters_df = read_file('df_characters.pkl.gz')\n",
    "lines_df = read_file('df_lines.pkl.gz')\n",
    "conversations_df = read_file('df_conversations.pkl.gz')\n",
    "\n",
    "HTML(movies_df.tail(1).to_html() + \\\n",
    "    characters_df.tail(1).to_html() + \\\n",
    "    lines_df.tail(1).to_html() + \\\n",
    "    conversations_df.tail(1).to_html())"
   ]
  },
  {
   "cell_type": "code",
   "execution_count": 9,
   "metadata": {
    "collapsed": true,
    "deletable": true,
    "editable": true
   },
   "outputs": [],
   "source": [
    "default_tokenizer = CountVectorizer().build_tokenizer()\n",
    "def lines_tokenizer(doc):\n",
    "    tokens = default_tokenizer(doc)\n",
    "    return list(map(ss.stem, tokens))"
   ]
  },
  {
   "cell_type": "code",
   "execution_count": 10,
   "metadata": {
    "collapsed": true,
    "deletable": true,
    "editable": true
   },
   "outputs": [],
   "source": [
    "vectorizer = TfidfVectorizer(tokenizer=lines_tokenizer, ngram_range=(1,3))"
   ]
  },
  {
   "cell_type": "code",
   "execution_count": 11,
   "metadata": {
    "collapsed": false,
    "deletable": true,
    "editable": true
   },
   "outputs": [
    {
     "name": "stdout",
     "output_type": "stream",
     "text": [
      "CPU times: user 1min 2s, sys: 479 ms, total: 1min 2s\n",
      "Wall time: 1min 2s\n"
     ]
    }
   ],
   "source": [
    "%time tf = vectorizer.fit_transform(lines_df['text'])\n",
    "features = vectorizer.get_feature_names()"
   ]
  },
  {
   "cell_type": "markdown",
   "metadata": {
    "deletable": true,
    "editable": true
   },
   "source": [
    "### Results"
   ]
  },
  {
   "cell_type": "code",
   "execution_count": 12,
   "metadata": {
    "collapsed": true,
    "deletable": true,
    "editable": true
   },
   "outputs": [],
   "source": [
    "def get_matches(vectorizer, tf, count, doc):\n",
    "    vector = vectorizer.transform([doc])\n",
    "    \n",
    "    sims = cosine_similarity(vector, tf)\n",
    "    ordered_ixs = np.argsort(sims[0])[::-1]\n",
    "    \n",
    "    return [lines_df.iloc[ordered_ixs[i]] for i in range(count)]"
   ]
  },
  {
   "cell_type": "code",
   "execution_count": 13,
   "metadata": {
    "collapsed": true,
    "deletable": true,
    "editable": true
   },
   "outputs": [],
   "source": [
    "simple_vec_bi = CountVectorizer(ngram_range=(1,2))\n",
    "simple_vec_bi_tf = simple_vec_bi.fit_transform(lines_df['text'])\n",
    "\n",
    "simple_vec_bi_tri = CountVectorizer(ngram_range=(1,3))\n",
    "simple_vec_bi_tri_tf = simple_vec_bi_tri.fit_transform(lines_df['text'])\n",
    "\n",
    "simple_vec_bi_tri_stem = CountVectorizer(ngram_range=(1,3), tokenizer=lines_tokenizer)\n",
    "simple_vec_bi_tri_stem_tf = simple_vec_bi_tri_stem.fit_transform(lines_df['text'])\n",
    "\n",
    "simple_vec_bi_tri_stem_stop = CountVectorizer(ngram_range=(1,3), stop_words='english', tokenizer=lines_tokenizer)\n",
    "simple_vec_bi_tri_stem_stop_tf = simple_vec_bi_tri_stem_stop.fit_transform(lines_df['text'])"
   ]
  },
  {
   "cell_type": "code",
   "execution_count": 14,
   "metadata": {
    "collapsed": false,
    "deletable": true,
    "editable": true,
    "scrolled": false
   },
   "outputs": [
    {
     "name": "stdout",
     "output_type": "stream",
     "text": [
      "stopwords: None , tokenizer: None\n",
      "----------\n",
      "Thank you. For everything.  Beam me up, Scotty.\n",
      "Pick me up?\n",
      "\n",
      "stopwords: None , tokenizer: None\n",
      "----------\n",
      "Thank you. For everything.  Beam me up, Scotty.\n",
      "I really did think I was still in reality. At least, until now.  Beam me up, Scotty!\n",
      "\n",
      "stopwords: None , tokenizer: <function lines_tokenizer at 0x7f263b6608c8>\n",
      "----------\n",
      "Thank you. For everything.  Beam me up, Scotty.\n",
      "I really did think I was still in reality. At least, until now.  Beam me up, Scotty!\n",
      "\n",
      "stopwords: english , tokenizer: <function lines_tokenizer at 0x7f263b6608c8>\n",
      "----------\n",
      "Can you beam him off?\n",
      "Scottie?\n",
      "\n"
     ]
    }
   ],
   "source": [
    "compare_string = \"beam me up scotty\"\n",
    "#compare_string = \"What is your favourite place in the world?\"\n",
    "#compare_string = \"Chewie, we're home.\"\n",
    "#compare_string = \"Magic Mirror on the wall, who is the fairest one of all?\"\n",
    "#compare_string = \"Just when I thought I was out, they pull me back in.\"\n",
    "#compare_string = \"Fasten your seatbelts. It's going to be a bumpy night.\"\n",
    "\n",
    "test_vecs = [\n",
    "    [simple_vec_bi, simple_vec_bi_tf],\n",
    "    [simple_vec_bi_tri, simple_vec_bi_tri_tf],\n",
    "    [simple_vec_bi_tri_stem, simple_vec_bi_tri_stem_tf],\n",
    "    [simple_vec_bi_tri_stem_stop, simple_vec_bi_tri_stem_stop_tf]\n",
    "    ]\n",
    "\n",
    "for (test_vec, test_tf) in test_vecs:\n",
    "    print('stopwords:', test_vec.stop_words, ', tokenizer:', test_vec.tokenizer)\n",
    "    print('----------')\n",
    "    for line in get_matches(test_vec, test_tf, 2, compare_string):\n",
    "        print(line['text'])\n",
    "    print()\n"
   ]
  },
  {
   "cell_type": "code",
   "execution_count": 15,
   "metadata": {
    "collapsed": false,
    "deletable": true,
    "editable": true
   },
   "outputs": [],
   "source": [
    "idf_simple_vec_bi = TfidfVectorizer(ngram_range=(1,2))\n",
    "idf_simple_vec_bi_tf = idf_simple_vec_bi.fit_transform(lines_df['text'])\n",
    "\n",
    "idf_simple_vec_bi_tri = TfidfVectorizer(ngram_range=(1,3))\n",
    "idf_simple_vec_bi_tri_tf = idf_simple_vec_bi_tri.fit_transform(lines_df['text'])\n",
    "\n",
    "idf_simple_vec_bi_tri_stem = TfidfVectorizer(ngram_range=(1,3), tokenizer=lines_tokenizer)\n",
    "idf_simple_vec_bi_tri_stem_tf = idf_simple_vec_bi_tri_stem.fit_transform(lines_df['text'])\n",
    "\n",
    "idf_simple_vec_bi_tri_stem_stop = TfidfVectorizer(ngram_range=(1,3), stop_words='english', tokenizer=lines_tokenizer)\n",
    "idf_simple_vec_bi_tri_stem_stop_tf = idf_simple_vec_bi_tri_stem_stop.fit_transform(lines_df['text'])"
   ]
  },
  {
   "cell_type": "code",
   "execution_count": 16,
   "metadata": {
    "collapsed": false,
    "deletable": true,
    "editable": true,
    "scrolled": false
   },
   "outputs": [
    {
     "name": "stdout",
     "output_type": "stream",
     "text": [
      "stopwords: None , tokenizer: None\n",
      "----------\n",
      "This is my favourite place in the city.\n",
      "It's your favourite...\n",
      "\n",
      "stopwords: None , tokenizer: None\n",
      "----------\n",
      "This is my favourite place in the city.\n",
      "In the world.\n",
      "\n",
      "stopwords: None , tokenizer: <function lines_tokenizer at 0x7f263b6608c8>\n",
      "----------\n",
      "This is my favourite place in the city.\n",
      "In the world.\n",
      "\n",
      "stopwords: english , tokenizer: <function lines_tokenizer at 0x7f263b6608c8>\n",
      "----------\n",
      "I thought I'd show you one of my favourite places.\n",
      "This is my favourite place in the city.\n",
      "\n"
     ]
    }
   ],
   "source": [
    "compare_string = \"beam me up scotty\"\n",
    "compare_string = \"What is your favourite place in the world?\"\n",
    "#compare_string = \"Chewie, we're home.\"\n",
    "#compare_string = \"Magic Mirror on the wall, who is the fairest one of all?\"\n",
    "#compare_string = \"Just when I thought I was out, they pull me back in.\"\n",
    "#compare_string = \"Fasten your seatbelts. It's going to be a bumpy night.\"\n",
    "\n",
    "test_vecs = [\n",
    "    [idf_simple_vec_bi, idf_simple_vec_bi_tf],\n",
    "    [idf_simple_vec_bi_tri, idf_simple_vec_bi_tri_tf],\n",
    "    [idf_simple_vec_bi_tri_stem, idf_simple_vec_bi_tri_stem_tf],\n",
    "    [idf_simple_vec_bi_tri_stem_stop, idf_simple_vec_bi_tri_stem_stop_tf]\n",
    "    ]\n",
    "\n",
    "for (test_vec, test_tf) in test_vecs:\n",
    "    print('stopwords:', test_vec.stop_words, ', tokenizer:', test_vec.tokenizer)\n",
    "    print('----------')\n",
    "    for line in get_matches(test_vec, test_tf, 2, compare_string):\n",
    "        print(line['text'])\n",
    "    print()\n"
   ]
  },
  {
   "cell_type": "code",
   "execution_count": null,
   "metadata": {
    "collapsed": true,
    "deletable": true,
    "editable": true
   },
   "outputs": [],
   "source": []
  },
  {
   "cell_type": "code",
   "execution_count": null,
   "metadata": {
    "collapsed": true,
    "deletable": true,
    "editable": true
   },
   "outputs": [],
   "source": []
  },
  {
   "cell_type": "code",
   "execution_count": null,
   "metadata": {
    "collapsed": true,
    "deletable": true,
    "editable": true
   },
   "outputs": [],
   "source": []
  },
  {
   "cell_type": "code",
   "execution_count": null,
   "metadata": {
    "collapsed": true,
    "deletable": true,
    "editable": true
   },
   "outputs": [],
   "source": []
  },
  {
   "cell_type": "code",
   "execution_count": null,
   "metadata": {
    "collapsed": true,
    "deletable": true,
    "editable": true
   },
   "outputs": [],
   "source": []
  },
  {
   "cell_type": "code",
   "execution_count": null,
   "metadata": {
    "collapsed": true
   },
   "outputs": [],
   "source": []
  },
  {
   "cell_type": "code",
   "execution_count": null,
   "metadata": {
    "collapsed": true
   },
   "outputs": [],
   "source": []
  },
  {
   "cell_type": "markdown",
   "metadata": {
    "collapsed": true,
    "deletable": true,
    "editable": true
   },
   "source": [
    "# Export for use in motalk"
   ]
  },
  {
   "cell_type": "code",
   "execution_count": 17,
   "metadata": {
    "collapsed": false,
    "deletable": true,
    "editable": true
   },
   "outputs": [
    {
     "data": {
      "text/plain": [
       "TfidfVectorizer(analyzer='word', binary=False, decode_error='strict',\n",
       "        dtype=<class 'numpy.int64'>, encoding='utf-8', input='content',\n",
       "        lowercase=True, max_df=1.0, max_features=None, min_df=1,\n",
       "        ngram_range=(1, 3), norm='l2', preprocessor=None, smooth_idf=True,\n",
       "        stop_words=None, strip_accents=None, sublinear_tf=False,\n",
       "        token_pattern='(?u)\\\\b\\\\w\\\\w+\\\\b', tokenizer=None, use_idf=True,\n",
       "        vocabulary=None)"
      ]
     },
     "execution_count": 17,
     "metadata": {},
     "output_type": "execute_result"
    }
   ],
   "source": [
    "idf_simple_vec_bi_tri"
   ]
  },
  {
   "cell_type": "code",
   "execution_count": null,
   "metadata": {
    "collapsed": true,
    "deletable": true,
    "editable": true
   },
   "outputs": [],
   "source": []
  },
  {
   "cell_type": "code",
   "execution_count": 18,
   "metadata": {
    "collapsed": true,
    "deletable": true,
    "editable": true
   },
   "outputs": [],
   "source": [
    "import gzip, pickle\n",
    "\n",
    "def save_file(name, df):\n",
    "    with gzip.open(name, 'w') as f:\n",
    "        pickle.dump(df, f)\n",
    "\n",
    "save_file('idf_simple_vec_bi_tri.pkl.gz', idf_simple_vec_bi_tri)\n",
    "save_file('idf_simple_vec_bi_tri_tf.pkl.gz', idf_simple_vec_bi_tri_tf)\n"
   ]
  },
  {
   "cell_type": "code",
   "execution_count": null,
   "metadata": {
    "collapsed": true,
    "deletable": true,
    "editable": true
   },
   "outputs": [],
   "source": []
  },
  {
   "cell_type": "code",
   "execution_count": null,
   "metadata": {
    "collapsed": true,
    "deletable": true,
    "editable": true
   },
   "outputs": [],
   "source": []
  },
  {
   "cell_type": "code",
   "execution_count": null,
   "metadata": {
    "collapsed": true,
    "deletable": true,
    "editable": true
   },
   "outputs": [],
   "source": []
  },
  {
   "cell_type": "code",
   "execution_count": null,
   "metadata": {
    "collapsed": true,
    "deletable": true,
    "editable": true
   },
   "outputs": [],
   "source": []
  },
  {
   "cell_type": "code",
   "execution_count": null,
   "metadata": {
    "collapsed": true,
    "deletable": true,
    "editable": true
   },
   "outputs": [],
   "source": []
  },
  {
   "cell_type": "code",
   "execution_count": null,
   "metadata": {
    "collapsed": true,
    "deletable": true,
    "editable": true
   },
   "outputs": [],
   "source": []
  }
 ],
 "metadata": {
  "kernelspec": {
   "display_name": "Python 3",
   "language": "python",
   "name": "python3"
  },
  "language_info": {
   "codemirror_mode": {
    "name": "ipython",
    "version": 3
   },
   "file_extension": ".py",
   "mimetype": "text/x-python",
   "name": "python",
   "nbconvert_exporter": "python",
   "pygments_lexer": "ipython3",
   "version": "3.5.2"
  }
 },
 "nbformat": 4,
 "nbformat_minor": 1
}
