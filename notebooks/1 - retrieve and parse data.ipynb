{
 "cells": [
  {
   "cell_type": "markdown",
   "metadata": {},
   "source": [
    "## Cornell Movie--Dialogs Corpus\n",
    "\n",
    "more info: https://www.cs.cornell.edu/~cristian/Cornell_Movie-Dialogs_Corpus.html\n",
    "\n",
    "zip file: http://www.mpi-sws.org/~cristian/data/cornell_movie_dialogs_corpus.zip\n",
    "\n"
   ]
  },
  {
   "cell_type": "code",
   "execution_count": 1,
   "metadata": {
    "collapsed": false
   },
   "outputs": [],
   "source": [
    "import gzip, io, requests, zipfile"
   ]
  },
  {
   "cell_type": "markdown",
   "metadata": {},
   "source": [
    "# Load zip file"
   ]
  },
  {
   "cell_type": "code",
   "execution_count": 2,
   "metadata": {
    "collapsed": true
   },
   "outputs": [],
   "source": [
    "zip_url = \"http://www.mpi-sws.org/~cristian/data/cornell_movie_dialogs_corpus.zip\"\n",
    "r = requests.get(zip_url, stream=True)"
   ]
  },
  {
   "cell_type": "code",
   "execution_count": 3,
   "metadata": {
    "collapsed": false
   },
   "outputs": [],
   "source": [
    "z = zipfile.ZipFile(io.BytesIO(r.raw.data))"
   ]
  },
  {
   "cell_type": "markdown",
   "metadata": {},
   "source": [
    "## List files in zip"
   ]
  },
  {
   "cell_type": "code",
   "execution_count": 4,
   "metadata": {
    "collapsed": false
   },
   "outputs": [
    {
     "name": "stdout",
     "output_type": "stream",
     "text": [
      "cornell movie-dialogs corpus/movie_characters_metadata.txt\n",
      "cornell movie-dialogs corpus/movie_conversations.txt\n",
      "cornell movie-dialogs corpus/movie_lines.txt\n",
      "cornell movie-dialogs corpus/movie_titles_metadata.txt\n",
      "cornell movie-dialogs corpus/raw_script_urls.txt\n",
      "cornell movie-dialogs corpus/README.txt\n",
      "__MACOSX/cornell movie-dialogs corpus/._README.txt\n"
     ]
    }
   ],
   "source": [
    "for file in z.filelist:\n",
    "    if file.filename.endswith(\"txt\"):\n",
    "        print(file.filename)"
   ]
  },
  {
   "cell_type": "markdown",
   "metadata": {},
   "source": [
    "## Check out the README"
   ]
  },
  {
   "cell_type": "code",
   "execution_count": 5,
   "metadata": {
    "collapsed": false,
    "scrolled": false
   },
   "outputs": [
    {
     "name": "stdout",
     "output_type": "stream",
     "text": [
      "Cornell Movie-Dialogs Corpus\n",
      "\n",
      "Distributed together with:\n",
      "\n",
      "\"Chameleons in imagined conversations: A new approach to understanding coordination of linguistic style in dialogs\"\n",
      "Cristian Danescu-Niculescu-Mizil and Lillian Lee\n",
      "Proceedings of the Workshop on Cognitive Modeling and Computational Linguistics, ACL 2011.\r\n",
      "\n",
      "(this paper is included in this zip file)\n",
      "\n",
      "NOTE: If you have results to report on these corpora, please send email to cristian@cs.cornell.edu or llee@cs.cornell.edu so we can add you to our list of people using this data.  Thanks!\n",
      "\n",
      "\n",
      "Contents of this README:\n",
      "\n",
      "\tA) Brief description\n",
      "\tB) Files description\n",
      "\tC) Details on the collection procedure\n",
      "\tD) Contact\n",
      "\n",
      "\n",
      "A) Brief description:\n",
      "\n",
      "This corpus contains a metadata-rich collection of fictional conversations extracted from raw movie scripts:\n",
      "\n",
      "- 220,579 conversational exchanges between 10,292 pairs of movie characters\n",
      "- involves 9,035 characters from 617 movies\n",
      "- in total 304,713 utterances\n",
      "- movie metadata included:\n",
      "\t- genres\n",
      "\t- release year\n",
      "\t- IMDB rating\n",
      "\t- number of IMDB votes\n",
      "\t- IMDB rating\n",
      "- character metadata included:\n",
      "\t- gender (for 3,774 characters)\n",
      "\t- position on movie credits (3,321 characters)\n",
      "\n",
      "\n",
      "B) Files description:\n",
      "\n",
      "In all files the field separator is \" +++$+++ \"\n",
      "\n",
      "- movie_titles_metadata.txt\n",
      "\t- contains information about each movie title\n",
      "\t- fields: \n",
      "\t\t- movieID, \n",
      "\t\t- movie title,\n",
      "\t\t- movie year, \n",
      "\t   \t- IMDB rating,\n",
      "\t\t- no. IMDB votes,\n",
      " \t\t- genres in the format ['genre1','genre2',É,'genreN']\n",
      "\n",
      "- movie_characters_metadata.txt\n",
      "\t- contains information about each movie character\n",
      "\t- fields:\n",
      "\t\t- characterID\n",
      "\t\t- character name\n",
      "\t\t- movieID\n",
      "\t\t- movie title\n",
      "\t\t- gender (\"?\" for unlabeled cases)\n",
      "\t\t- position in credits (\"?\" for unlabeled cases) \n",
      "\n",
      "- movie_lines.txt\n",
      "\t- contains the actual text of each utterance\n",
      "\t- fields:\n",
      "\t\t- lineID\n",
      "\t\t- characterID (who uttered this phrase)\n",
      "\t\t- movieID\n",
      "\t\t- character name\n",
      "\t\t- text of the utterance\n",
      "\n",
      "- movie_conversations.txt\n",
      "\t- the structure of the conversations\n",
      "\t- fields\n",
      "\t\t- characterID of the first character involved in the conversation\n",
      "\t\t- characterID of the second character involved in the conversation\n",
      "\t\t- movieID of the movie in which the conversation occurred\n",
      "\t\t- list of the utterances that make the conversation, in chronological \n",
      "\t\t\torder: ['lineID1','lineID2',É,'lineIDN']\n",
      "\t\t\thas to be matched with movie_lines.txt to reconstruct the actual content\n",
      "\n",
      "- raw_script_urls.txt\n",
      "\t- the urls from which the raw sources were retrieved\n",
      "\n",
      "C) Details on the collection procedure:\n",
      "\n",
      "We started from raw publicly available movie scripts (sources acknowledged in \n",
      "raw_script_urls.txt).  In order to collect the metadata necessary for this study \n",
      "and to distinguish between two script versions of the same movie, we automatically\n",
      " matched each script with an entry in movie database provided by IMDB (The Internet\n",
      " Movie Database; data interfaces available at http://www.imdb.com/interfaces). Some\n",
      " amount of manual correction was also involved. When  more than one movie with the same\n",
      " title was found in IMBD, the match was made with the most popular title \n",
      "(the one that received most IMDB votes)  \n",
      "\n",
      "After discarding all movies that could not be matched or that had less than 5 IMDB \n",
      "votes, we were left with 617 unique titles with metadata including genre, release \n",
      "year, IMDB rating and no. of IMDB votes and cast distribution.  We then identified \n",
      "the pairs of characters that interact and separated their conversations automatically \n",
      "using simple data processing heuristics. After discarding all pairs that exchanged \n",
      "less than 5 conversational exchanges there were 10,292 left, exchanging 220,579 \n",
      "conversational exchanges (304,713 utterances).  After automatically matching the names \n",
      "of the 9,035 involved characters to the list of cast distribution, we used the \n",
      "gender of each interpreting actor to infer the fictional gender of a subset of \n",
      "3,321 movie characters (we raised the number of gendered 3,774 characters through\n",
      " manual annotation). Similarly, we collected the end credit position of a subset \n",
      "of 3,321 characters as a proxy for their status.\n",
      "\n",
      "\n",
      "D) Contact:\n",
      "\n",
      "Please email any questions to: cristian@cs.cornell.edu (Cristian Danescu-Niculescu-Mizil)\n"
     ]
    }
   ],
   "source": [
    "readme = z.read('cornell movie-dialogs corpus/README.txt')\n",
    "print(readme.decode('iso-8859-1'))"
   ]
  },
  {
   "cell_type": "markdown",
   "metadata": {},
   "source": [
    "# Load data with Pandas"
   ]
  },
  {
   "cell_type": "code",
   "execution_count": 6,
   "metadata": {
    "collapsed": true
   },
   "outputs": [],
   "source": [
    "import pandas as pd\n",
    "from IPython.display import HTML"
   ]
  },
  {
   "cell_type": "markdown",
   "metadata": {},
   "source": [
    "## Titles"
   ]
  },
  {
   "cell_type": "code",
   "execution_count": 23,
   "metadata": {
    "collapsed": false,
    "scrolled": false
   },
   "outputs": [
    {
     "name": "stdout",
     "output_type": "stream",
     "text": [
      "count: 617\n"
     ]
    },
    {
     "name": "stderr",
     "output_type": "stream",
     "text": [
      "/opt/conda/lib/python3.5/site-packages/ipykernel/__main__.py:5: ParserWarning: Falling back to the 'python' engine because the 'c' engine does not support regex separators (separators > 1 char and different from '\\s+' are interpreted as regex); you can avoid this warning by specifying engine='python'.\n"
     ]
    },
    {
     "data": {
      "text/html": [
       "<table border=\"1\" class=\"dataframe\">\n",
       "  <thead>\n",
       "    <tr style=\"text-align: right;\">\n",
       "      <th></th>\n",
       "      <th>title</th>\n",
       "      <th>year</th>\n",
       "      <th>imdb_rating</th>\n",
       "      <th>no_imdb_votes</th>\n",
       "      <th>genres</th>\n",
       "    </tr>\n",
       "    <tr>\n",
       "      <th>movieID</th>\n",
       "      <th></th>\n",
       "      <th></th>\n",
       "      <th></th>\n",
       "      <th></th>\n",
       "      <th></th>\n",
       "    </tr>\n",
       "  </thead>\n",
       "  <tbody>\n",
       "    <tr>\n",
       "      <th>m614</th>\n",
       "      <td>x-men</td>\n",
       "      <td>2000</td>\n",
       "      <td>7.4</td>\n",
       "      <td>122149</td>\n",
       "      <td>['action', 'sci-fi']</td>\n",
       "    </tr>\n",
       "    <tr>\n",
       "      <th>m615</th>\n",
       "      <td>young frankenstein</td>\n",
       "      <td>1974</td>\n",
       "      <td>8.0</td>\n",
       "      <td>57618</td>\n",
       "      <td>['comedy', 'sci-fi']</td>\n",
       "    </tr>\n",
       "    <tr>\n",
       "      <th>m616</th>\n",
       "      <td>zulu dawn</td>\n",
       "      <td>1979</td>\n",
       "      <td>6.4</td>\n",
       "      <td>1911</td>\n",
       "      <td>['action', 'adventure', 'drama', 'history', 'w...</td>\n",
       "    </tr>\n",
       "  </tbody>\n",
       "</table>"
      ],
      "text/plain": [
       "<IPython.core.display.HTML object>"
      ]
     },
     "execution_count": 23,
     "metadata": {},
     "output_type": "execute_result"
    }
   ],
   "source": [
    "movies_headers = ['movieID', 'title', 'year', 'imdb_rating', 'no_imdb_votes', 'genres']\n",
    "movies_df = pd.read_csv(io.StringIO(z.read('cornell movie-dialogs corpus/movie_titles_metadata.txt').decode('iso-8859-1')),\n",
    "                                    sep='\\ \\+\\+\\+\\$\\+\\+\\+\\ ',\n",
    "                                    names=movies_headers,\n",
    "                                    index_col='movieID')\n",
    "\n",
    "print('count:', len(movies_df))\n",
    "HTML(movies_df.tail(3).to_html())"
   ]
  },
  {
   "cell_type": "markdown",
   "metadata": {},
   "source": [
    "## Characters"
   ]
  },
  {
   "cell_type": "code",
   "execution_count": 22,
   "metadata": {
    "collapsed": false
   },
   "outputs": [
    {
     "name": "stdout",
     "output_type": "stream",
     "text": [
      "count: 9035\n"
     ]
    },
    {
     "name": "stderr",
     "output_type": "stream",
     "text": [
      "/opt/conda/lib/python3.5/site-packages/ipykernel/__main__.py:5: ParserWarning: Falling back to the 'python' engine because the 'c' engine does not support regex separators (separators > 1 char and different from '\\s+' are interpreted as regex); you can avoid this warning by specifying engine='python'.\n"
     ]
    },
    {
     "data": {
      "text/html": [
       "<table border=\"1\" class=\"dataframe\">\n",
       "  <thead>\n",
       "    <tr style=\"text-align: right;\">\n",
       "      <th></th>\n",
       "      <th>characterID</th>\n",
       "      <th>character_name</th>\n",
       "      <th>movie_title</th>\n",
       "      <th>gender</th>\n",
       "      <th>credits_position</th>\n",
       "    </tr>\n",
       "    <tr>\n",
       "      <th>movieID</th>\n",
       "      <th></th>\n",
       "      <th></th>\n",
       "      <th></th>\n",
       "      <th></th>\n",
       "      <th></th>\n",
       "    </tr>\n",
       "  </thead>\n",
       "  <tbody>\n",
       "    <tr>\n",
       "      <th>m616</th>\n",
       "      <td>u9032</td>\n",
       "      <td>NORRIS-NEWMAN</td>\n",
       "      <td>zulu dawn</td>\n",
       "      <td>?</td>\n",
       "      <td>?</td>\n",
       "    </tr>\n",
       "    <tr>\n",
       "      <th>m616</th>\n",
       "      <td>u9033</td>\n",
       "      <td>STUART SMITH</td>\n",
       "      <td>zulu dawn</td>\n",
       "      <td>?</td>\n",
       "      <td>?</td>\n",
       "    </tr>\n",
       "    <tr>\n",
       "      <th>m616</th>\n",
       "      <td>u9034</td>\n",
       "      <td>VEREKER</td>\n",
       "      <td>zulu dawn</td>\n",
       "      <td>?</td>\n",
       "      <td>?</td>\n",
       "    </tr>\n",
       "  </tbody>\n",
       "</table>"
      ],
      "text/plain": [
       "<IPython.core.display.HTML object>"
      ]
     },
     "execution_count": 22,
     "metadata": {},
     "output_type": "execute_result"
    }
   ],
   "source": [
    "characters_headers = ['characterID', 'character_name', 'movieID', 'movie_title', 'gender', 'credits_position']\n",
    "characters_df = pd.read_csv(io.StringIO(z.read('cornell movie-dialogs corpus/movie_characters_metadata.txt').decode('iso-8859-1')),\n",
    "                                    sep='\\ \\+\\+\\+\\$\\+\\+\\+\\ ',\n",
    "                                    names=characters_headers,\n",
    "                                    index_col='movieID')\n",
    "\n",
    "print('count:', len(characters_df))\n",
    "HTML(characters_df.tail(3).to_html())"
   ]
  },
  {
   "cell_type": "markdown",
   "metadata": {},
   "source": [
    "## Lines"
   ]
  },
  {
   "cell_type": "code",
   "execution_count": 20,
   "metadata": {
    "collapsed": false
   },
   "outputs": [
    {
     "name": "stderr",
     "output_type": "stream",
     "text": [
      "/opt/conda/lib/python3.5/site-packages/ipykernel/__main__.py:5: ParserWarning: Falling back to the 'python' engine because the 'c' engine does not support regex separators (separators > 1 char and different from '\\s+' are interpreted as regex); you can avoid this warning by specifying engine='python'.\n"
     ]
    },
    {
     "name": "stdout",
     "output_type": "stream",
     "text": [
      "count: 304713\n"
     ]
    },
    {
     "data": {
      "text/html": [
       "<table border=\"1\" class=\"dataframe\">\n",
       "  <thead>\n",
       "    <tr style=\"text-align: right;\">\n",
       "      <th></th>\n",
       "      <th>characterID</th>\n",
       "      <th>movieID</th>\n",
       "      <th>character_ame</th>\n",
       "      <th>text</th>\n",
       "    </tr>\n",
       "    <tr>\n",
       "      <th>lineID</th>\n",
       "      <th></th>\n",
       "      <th></th>\n",
       "      <th></th>\n",
       "      <th></th>\n",
       "    </tr>\n",
       "  </thead>\n",
       "  <tbody>\n",
       "    <tr>\n",
       "      <th>L666369</th>\n",
       "      <td>u9030</td>\n",
       "      <td>m616</td>\n",
       "      <td>DURNFORD</td>\n",
       "      <td>Your orders, Mr Vereker?</td>\n",
       "    </tr>\n",
       "    <tr>\n",
       "      <th>L666257</th>\n",
       "      <td>u9030</td>\n",
       "      <td>m616</td>\n",
       "      <td>DURNFORD</td>\n",
       "      <td>Good ones, yes, Mr Vereker. Gentlemen who can ...</td>\n",
       "    </tr>\n",
       "    <tr>\n",
       "      <th>L666256</th>\n",
       "      <td>u9034</td>\n",
       "      <td>m616</td>\n",
       "      <td>VEREKER</td>\n",
       "      <td>Colonel Durnford... William Vereker. I hear yo...</td>\n",
       "    </tr>\n",
       "  </tbody>\n",
       "</table>"
      ],
      "text/plain": [
       "<IPython.core.display.HTML object>"
      ]
     },
     "execution_count": 20,
     "metadata": {},
     "output_type": "execute_result"
    }
   ],
   "source": [
    "lines_headers = ['lineID', 'characterID', 'movieID', 'character_ame', 'text']\n",
    "lines_df = pd.read_csv(io.StringIO(z.read('cornell movie-dialogs corpus/movie_lines.txt').decode('iso-8859-1')),\n",
    "                       sep='\\ \\+\\+\\+\\$\\+\\+\\+\\ ',\n",
    "                       names=lines_headers,\n",
    "                       index_col='lineID',\n",
    "                      )\n",
    "lines_df = lines_df.fillna(\"\")\n",
    "print('count:', len(lines_df))\n",
    "HTML(lines_df.tail(3).to_html())"
   ]
  },
  {
   "cell_type": "markdown",
   "metadata": {},
   "source": [
    "## Conversations"
   ]
  },
  {
   "cell_type": "code",
   "execution_count": 21,
   "metadata": {
    "collapsed": false
   },
   "outputs": [
    {
     "name": "stderr",
     "output_type": "stream",
     "text": [
      "/opt/conda/lib/python3.5/site-packages/ipykernel/__main__.py:4: ParserWarning: Falling back to the 'python' engine because the 'c' engine does not support regex separators (separators > 1 char and different from '\\s+' are interpreted as regex); you can avoid this warning by specifying engine='python'.\n"
     ]
    },
    {
     "name": "stdout",
     "output_type": "stream",
     "text": [
      "count: 83097\n"
     ]
    },
    {
     "data": {
      "text/html": [
       "<table border=\"1\" class=\"dataframe\">\n",
       "  <thead>\n",
       "    <tr style=\"text-align: right;\">\n",
       "      <th></th>\n",
       "      <th>firstCharacterID</th>\n",
       "      <th>secondCharacterID</th>\n",
       "      <th>movieId</th>\n",
       "      <th>order</th>\n",
       "    </tr>\n",
       "  </thead>\n",
       "  <tbody>\n",
       "    <tr>\n",
       "      <th>83094</th>\n",
       "      <td>u9030</td>\n",
       "      <td>u9034</td>\n",
       "      <td>m616</td>\n",
       "      <td>['L666256', 'L666257']</td>\n",
       "    </tr>\n",
       "    <tr>\n",
       "      <th>83095</th>\n",
       "      <td>u9030</td>\n",
       "      <td>u9034</td>\n",
       "      <td>m616</td>\n",
       "      <td>['L666369', 'L666370', 'L666371', 'L666372']</td>\n",
       "    </tr>\n",
       "    <tr>\n",
       "      <th>83096</th>\n",
       "      <td>u9030</td>\n",
       "      <td>u9034</td>\n",
       "      <td>m616</td>\n",
       "      <td>['L666520', 'L666521', 'L666522']</td>\n",
       "    </tr>\n",
       "  </tbody>\n",
       "</table>"
      ],
      "text/plain": [
       "<IPython.core.display.HTML object>"
      ]
     },
     "execution_count": 21,
     "metadata": {},
     "output_type": "execute_result"
    }
   ],
   "source": [
    "conversations_headers = ['firstCharacterID', 'secondCharacterID', 'movieId', 'order']\n",
    "conversations_df = pd.read_csv(io.StringIO(z.read('cornell movie-dialogs corpus/movie_conversations.txt').decode('iso-8859-1')),\n",
    "                               sep='\\ \\+\\+\\+\\$\\+\\+\\+\\ ',\n",
    "                               names=conversations_headers\n",
    "                              )\n",
    "print('count:', len(conversations_df))\n",
    "HTML(conversations_df.tail(3).to_html())"
   ]
  },
  {
   "cell_type": "code",
   "execution_count": null,
   "metadata": {
    "collapsed": true
   },
   "outputs": [],
   "source": []
  },
  {
   "cell_type": "markdown",
   "metadata": {
    "collapsed": true
   },
   "source": [
    "# Save out data"
   ]
  },
  {
   "cell_type": "code",
   "execution_count": 54,
   "metadata": {
    "collapsed": true
   },
   "outputs": [],
   "source": [
    "import gzip, pickle\n",
    "\n",
    "def save_file(name, df):\n",
    "    with gzip.open(name, 'w') as f:\n",
    "        pickle.dump(df, f)\n",
    "\n",
    "save_file('df_movies.pkl.gz', movies_df)\n",
    "save_file('df_characters.pkl.gz', characters_df)\n",
    "save_file('df_lines.pkl.gz', lines_df)\n",
    "save_file('df_conversations.pkl.gz', conversations_df)"
   ]
  },
  {
   "cell_type": "code",
   "execution_count": null,
   "metadata": {
    "collapsed": false
   },
   "outputs": [],
   "source": []
  },
  {
   "cell_type": "code",
   "execution_count": null,
   "metadata": {
    "collapsed": true
   },
   "outputs": [],
   "source": []
  },
  {
   "cell_type": "code",
   "execution_count": null,
   "metadata": {
    "collapsed": true
   },
   "outputs": [],
   "source": []
  },
  {
   "cell_type": "code",
   "execution_count": null,
   "metadata": {
    "collapsed": true
   },
   "outputs": [],
   "source": []
  },
  {
   "cell_type": "code",
   "execution_count": null,
   "metadata": {
    "collapsed": true
   },
   "outputs": [],
   "source": []
  },
  {
   "cell_type": "code",
   "execution_count": null,
   "metadata": {
    "collapsed": true
   },
   "outputs": [],
   "source": []
  },
  {
   "cell_type": "code",
   "execution_count": null,
   "metadata": {
    "collapsed": true
   },
   "outputs": [],
   "source": []
  },
  {
   "cell_type": "code",
   "execution_count": null,
   "metadata": {
    "collapsed": true
   },
   "outputs": [],
   "source": []
  },
  {
   "cell_type": "code",
   "execution_count": null,
   "metadata": {
    "collapsed": true
   },
   "outputs": [],
   "source": []
  },
  {
   "cell_type": "code",
   "execution_count": null,
   "metadata": {
    "collapsed": true
   },
   "outputs": [],
   "source": []
  },
  {
   "cell_type": "code",
   "execution_count": null,
   "metadata": {
    "collapsed": true
   },
   "outputs": [],
   "source": []
  },
  {
   "cell_type": "code",
   "execution_count": null,
   "metadata": {
    "collapsed": true
   },
   "outputs": [],
   "source": []
  },
  {
   "cell_type": "code",
   "execution_count": null,
   "metadata": {
    "collapsed": true
   },
   "outputs": [],
   "source": []
  }
 ],
 "metadata": {
  "kernelspec": {
   "display_name": "Python 3",
   "language": "python",
   "name": "python3"
  },
  "language_info": {
   "codemirror_mode": {
    "name": "ipython",
    "version": 3
   },
   "file_extension": ".py",
   "mimetype": "text/x-python",
   "name": "python",
   "nbconvert_exporter": "python",
   "pygments_lexer": "ipython3",
   "version": "3.5.2"
  }
 },
 "nbformat": 4,
 "nbformat_minor": 1
}
